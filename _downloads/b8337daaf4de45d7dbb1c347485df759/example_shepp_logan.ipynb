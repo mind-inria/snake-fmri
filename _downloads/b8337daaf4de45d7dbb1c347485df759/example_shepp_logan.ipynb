{
  "cells": [
    {
      "cell_type": "code",
      "execution_count": null,
      "metadata": {
        "collapsed": false
      },
      "outputs": [],
      "source": [
        "%matplotlib inline"
      ]
    },
    {
      "cell_type": "markdown",
      "metadata": {},
      "source": [
        "\n# Generate a 2D+t simple simulation\n\nExample of simulation generation.\n"
      ]
    },
    {
      "cell_type": "code",
      "execution_count": null,
      "metadata": {
        "collapsed": false
      },
      "outputs": [],
      "source": [
        "import matplotlib.pyplot as plt\n\nfrom simfmri.simulator import SimulationData\nfrom simfmri.simulator import (\n    SheppLoganGeneratorHandler,\n    ActivationHandler,\n    AcquisitionHandler,\n    KspaceNoiseHandler,\n)"
      ]
    },
    {
      "cell_type": "markdown",
      "metadata": {},
      "source": [
        "We are going to simulate a 2D+t fMRI scan of a phantom with activations. .\n\n"
      ]
    },
    {
      "cell_type": "code",
      "execution_count": null,
      "metadata": {
        "collapsed": false
      },
      "outputs": [],
      "source": [
        "shape = (64, 64, 64)\nn_frames = 50\nTR = 1.0\nn_coils = 1"
      ]
    },
    {
      "cell_type": "markdown",
      "metadata": {},
      "source": [
        "Moreover, for the acquisition we are going to specify the acceleration factor\nand the signal to noise ratio\n\n"
      ]
    },
    {
      "cell_type": "code",
      "execution_count": null,
      "metadata": {
        "collapsed": false
      },
      "outputs": [],
      "source": [
        "accel = 2\nsnr = 100"
      ]
    },
    {
      "cell_type": "markdown",
      "metadata": {},
      "source": [
        "This data is used to createa the main SimulationData object, which gather\nall the data related to this simulation\n\n"
      ]
    },
    {
      "cell_type": "code",
      "execution_count": null,
      "metadata": {
        "collapsed": false
      },
      "outputs": [],
      "source": [
        "sim_data = SimulationData(shape=shape, n_frames=n_frames, TR=1, n_coils=1)\n\nprint(sim_data)"
      ]
    },
    {
      "cell_type": "markdown",
      "metadata": {},
      "source": [
        "Then we are going to build the simulator from elementary steps,\nwhich all *handles* a particular aspect of the simulation.\n\nThe handlers can be chained easily by using the `@` operator (or by setting the\n``next`` attribute of an Handler)\nSome handlers comes with preset function to ease their creation.\n\n\n"
      ]
    },
    {
      "cell_type": "code",
      "execution_count": null,
      "metadata": {
        "collapsed": false
      },
      "outputs": [],
      "source": [
        "simulator = (\n    # Create a shepp logan phantom\n    SheppLoganGeneratorHandler()\n    # Add activations (and creates a time dimension)\n    @ ActivationHandler.from_block_design(3, 3, n_frames)\n    # simulate the acquisition\n    @ AcquisitionHandler.vds(acs=24, accel=accel, constant=True, gen_smaps=False)\n    # add noise to the kspace\n    @ KspaceNoiseHandler(snr=snr)\n)\n\nprint(simulator.get_chain())"
      ]
    },
    {
      "cell_type": "code",
      "execution_count": null,
      "metadata": {
        "collapsed": false
      },
      "outputs": [],
      "source": [
        "def print_callback(old_sim, new_sim):\n    print(old_sim)\n    print(\"->\")\n    print(new_sim)\n\n\ncur = simulator\nwhile cur is not None:\n    cur.add_callback(print_callback)\n    cur = cur.prev\n\nsim_data = simulator(sim_data)\nprint(sim_data)\n\nplt.imshow(abs(sim_data.data_ref[0][32]))\nplt.axis(\"off\")\nplt.show()"
      ]
    }
  ],
  "metadata": {
    "kernelspec": {
      "display_name": "Python 3",
      "language": "python",
      "name": "python3"
    },
    "language_info": {
      "codemirror_mode": {
        "name": "ipython",
        "version": 3
      },
      "file_extension": ".py",
      "mimetype": "text/x-python",
      "name": "python",
      "nbconvert_exporter": "python",
      "pygments_lexer": "ipython3",
      "version": "3.10.9"
    }
  },
  "nbformat": 4,
  "nbformat_minor": 0
}